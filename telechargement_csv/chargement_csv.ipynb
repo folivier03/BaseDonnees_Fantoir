{
 "metadata": {
  "language_info": {
   "codemirror_mode": {
    "name": "ipython",
    "version": 3
   },
   "file_extension": ".py",
   "mimetype": "text/x-python",
   "name": "python",
   "nbconvert_exporter": "python",
   "pygments_lexer": "ipython3",
   "version": "3.8.5-final"
  },
  "orig_nbformat": 2,
  "kernelspec": {
   "name": "python3",
   "display_name": "Python 3.8.5 64-bit ('fantoir': conda)",
   "metadata": {
    "interpreter": {
     "hash": "cb43ce014f12d3030d684127bd2faeb9f207d8605dba56c7a491e2eb86f21e23"
    }
   }
  }
 },
 "nbformat": 4,
 "nbformat_minor": 2,
 "cells": [
  {
   "cell_type": "code",
   "execution_count": null,
   "metadata": {},
   "outputs": [],
   "source": [
    "import pandas as pd\n",
    "from data_loader import data_loader"
   ]
  },
  {
   "cell_type": "code",
   "execution_count": null,
   "metadata": {},
   "outputs": [],
   "source": [
    "loader = data_loader()\n",
    "loader.ensure_data_loaded()"
   ]
  },
  {
   "cell_type": "code",
   "execution_count": null,
   "metadata": {},
   "outputs": [],
   "source": [
    "adresses = pd.read_csv('../datas/fantoir/adresses-2A.csv')\n",
    "\n",
    "print(adresses.head())"
   ]
  }
 ]
}